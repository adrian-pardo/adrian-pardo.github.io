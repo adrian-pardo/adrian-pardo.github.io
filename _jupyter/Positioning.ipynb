{
 "cells": [
  {
   "cell_type": "markdown",
   "id": "a21b6405",
   "metadata": {},
   "source": [
    "# Improving Developmental Positioning in a Level III NICU Using Evidence-Based Teaching and a Standardized Tool: An Evidence-Based Quality Improvement Project"
   ]
  },
  {
   "cell_type": "markdown",
   "id": "50a2496f",
   "metadata": {},
   "source": [
    "# 1 Introduction\n",
    "\n",
    "This paper was accepted for publication on May 4, 2022 by the Neonatal Network, a peer-reviewed journal. The paper was collaborative effort between NICU (newborn intensive care unit) nurses and research personnel at Santa Barbara Cottage Hospital. My primary responsibilities in the project were to suggest a data management strategy, conduct statisitcal testing, and interpret the results. Statisical analyses were conducted using:\n",
    "\n",
    "- R\n",
    "- SciPy"
   ]
  },
  {
   "cell_type": "markdown",
   "id": "702fac0f",
   "metadata": {},
   "source": [
    "# 2 Report\n",
    "\n",
    "<embed src=\"{{ site.url }}{{ site.baseurl }}/images/positioning/Positioning_published_paper.pdf\" width=\"500\" height=\"375\" type=\"application/pdf\">"
   ]
  }
 ],
 "metadata": {
  "kernelspec": {
   "display_name": "Python 3 (ipykernel)",
   "language": "python",
   "name": "python3"
  },
  "language_info": {
   "codemirror_mode": {
    "name": "ipython",
    "version": 3
   },
   "file_extension": ".py",
   "mimetype": "text/x-python",
   "name": "python",
   "nbconvert_exporter": "python",
   "pygments_lexer": "ipython3",
   "version": "3.9.7"
  }
 },
 "nbformat": 4,
 "nbformat_minor": 5
}
