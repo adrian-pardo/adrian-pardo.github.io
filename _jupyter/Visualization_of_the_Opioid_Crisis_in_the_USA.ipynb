{
 "cells": [
  {
   "cell_type": "markdown",
   "id": "a9b07f7a",
   "metadata": {},
   "source": [
    "# Visualization of the Opioid Crisis in the USA"
   ]
  },
  {
   "cell_type": "markdown",
   "id": "2d640a33",
   "metadata": {},
   "source": [
    "# 1 Introduction\n",
    "\n",
    "CSE 6242 is a graduate level course at Georgia Tech that focused on using techniques and tools for analyzing and visualizing data at scale. My final project revolved around cleaning, analyzing, and deriving meaning from an 88+ GB opioid dataset with 179 million transaction records. Technologies and tools utilized throughout this project included:\n",
    "\n",
    "- Dask\n",
    "- Pandas\n",
    "- SQLite\n",
    "- Python Jupyter notebooks\n",
    "- GitHub Pages\n",
    "\n",
    "Additionally, the following predicitive algorithms were utilized:\n",
    "\n",
    "- log-log linear regression\n",
    "- log-log LASSO regression\n",
    "- random forest\n",
    "- linear regression"
   ]
  },
  {
   "cell_type": "markdown",
   "id": "580417f5",
   "metadata": {},
   "source": [
    "# 2 Poster\n",
    "\n",
    "<embed src=\"{{ site.url }}{{ site.baseurl }}/images/opioid/team114poster.pdf\" width=\"500\" height=\"375\" type=\"application/pdf\">"
   ]
  },
  {
   "cell_type": "markdown",
   "id": "aa6e5e09",
   "metadata": {},
   "source": [
    "# 3 Report\n",
    "\n",
    "<embed src=\"{{ site.url }}{{ site.baseurl }}/images/opioid/team114report.pdf\" width=\"500\" height=\"375\" type=\"application/pdf\">"
   ]
  }
 ],
 "metadata": {
  "kernelspec": {
   "display_name": "Python 3 (ipykernel)",
   "language": "python",
   "name": "python3"
  },
  "language_info": {
   "codemirror_mode": {
    "name": "ipython",
    "version": 3
   },
   "file_extension": ".py",
   "mimetype": "text/x-python",
   "name": "python",
   "nbconvert_exporter": "python",
   "pygments_lexer": "ipython3",
   "version": "3.9.7"
  }
 },
 "nbformat": 4,
 "nbformat_minor": 5
}
