{
 "cells": [
  {
   "cell_type": "markdown",
   "metadata": {},
   "source": [
    "# Project: Visualization of Perceptron Logic Gates\n",
    "\n",
    "In this project, I will use perceptrons to model the fundamental building blocks of computers — logic gates. Specifically, I will show how a perceptron can be used as a *linear classifier* by visualizing the *decision boundary* of particular set of data. In this case, I will show how:\n",
    "* AND, OR logic gates can represent linearly seperable data\n",
    "* a XOR logic gate can represent data that is not linearly seperable\n",
    "\n",
    "<img src=\"{{ site.url }}{{ site.baseurl }}/images/perceptron/logicgate.png\" alt=\"logic gates\">\n"
   ]
  },
  {
   "cell_type": "markdown",
   "metadata": {},
   "source": [
    "## Imports\n",
    "\n",
    "In this project, we will use the following libraries and settings:"
   ]
  },
  {
   "cell_type": "code",
   "execution_count": 1,
   "metadata": {},
   "outputs": [],
   "source": [
    "from sklearn.linear_model import Perceptron\n",
    "%matplotlib inline\n",
    "import matplotlib.pyplot as plt\n",
    "import numpy as np\n",
    "from itertools import product"
   ]
  },
  {
   "cell_type": "markdown",
   "metadata": {},
   "source": [
    "## Create Data Points\n",
    "\n",
    "First, let's look at the `A` and `B` columns of our truth table. We can think of each column as a single input, and we can combine these two inputs to create a set of four points."
   ]
  },
  {
   "cell_type": "code",
   "execution_count": 2,
   "metadata": {},
   "outputs": [],
   "source": [
    "#list of four possible inputs to gate\n",
    "data = [[0,0], [0,1], [1,0], [1,1]]"
   ]
  },
  {
   "cell_type": "markdown",
   "metadata": {},
   "source": [
    "## Create Labels\n",
    "\n",
    "We will find the labels for our AND, OR, and XOR logic gates under its corresponding `X` column. Let's create a list of labels for each gate."
   ]
  },
  {
   "cell_type": "code",
   "execution_count": 3,
   "metadata": {},
   "outputs": [],
   "source": [
    "#AND, OR, and XOR gate labels\n",
    "ANDlabels = [0, 0, 0, 1]\n",
    "ORlabels = [0, 1, 1, 1]\n",
    "XORlabels = [0, 1, 1, 0]"
   ]
  },
  {
   "cell_type": "markdown",
   "metadata": {},
   "source": [
    "## Data Visualization Pt. 1: Labeled Scatterplots"
   ]
  },
  {
   "cell_type": "markdown",
   "metadata": {},
   "source": [
    "Before can create a scatterplot, we need to break down our `data` into its x and y values. We can do this with a list comprehension. Then, we can plot our `x_values` and `y_values` on three different scatterplots, colorizing differences between the three gates."
   ]
  },
  {
   "cell_type": "code",
   "execution_count": 4,
   "metadata": {},
   "outputs": [],
   "source": [
    "#generate x and y values from data\n",
    "x_values = [point[0] for point in data]\n",
    "y_values = [point[1] for point in data]"
   ]
  },
  {
   "cell_type": "code",
   "execution_count": 5,
   "metadata": {
    "scrolled": false
   },
   "outputs": [
    {
     "data": {
      "image/png": "[encoded data removed]",
      "text/plain": [
       "<Figure size 864x216 with 3 Axes>"
      ]
     },
     "metadata": {
      "needs_background": "light"
     },
     "output_type": "display_data"
    }
   ],
   "source": [
    "#plot AND gate\n",
    "fig = plt.figure(figsize = (12,3))\n",
    "plt.subplot(1,3,1)\n",
    "plt.scatter(x_values, y_values, c=ANDlabels)\n",
    "plt.title(\"AND Logic Gate\")\n",
    "\n",
    "#plot OR gate\n",
    "plt.subplot(1,3,2)\n",
    "plt.scatter(x_values, y_values, c=ORlabels)\n",
    "plt.title(\"OR Logic Gate\")\n",
    "\n",
    "#plot XOR gate\n",
    "plt.subplot(1,3,3)\n",
    "plt.scatter(x_values, y_values, c=XORlabels)\n",
    "plt.title(\"XOR Logic Gate\")\n",
    "plt.show()"
   ]
  },
  {
   "cell_type": "markdown",
   "metadata": {},
   "source": [
    "In the context of our logic gate problem, \"linearly separable\" means that a straight line, formally known as `decision boundary`, could be drawn somewhere on our scatterplot that would entirely separate the colored dots. \n",
    "\n",
    "Take a look at the illustration below. Using the eyeball test, we can guess that our decision boundary is somewhere close to the drawn red lines.\n",
    "\n",
    "A line can be drawn on the AND, OR graphs indicating that these logic gates are linearly separable. This line cannot be drawn on the XOR graph, indicating that the XOR logic gate is not linearly separable. \n",
    "\n",
    "<img src=\"{{ site.url }}{{ site.baseurl }}/images/perceptron/3_logic_gates_edit.png\" alt=\"3 logic gates\">"
   ]
  },
  {
   "cell_type": "markdown",
   "metadata": {},
   "source": [
    "## Create the Perceptron Model\n",
    "\n",
    "Using our data and labels, let's build a perceptron to learn AND, OR, and XOR."
   ]
  },
  {
   "cell_type": "code",
   "execution_count": 6,
   "metadata": {},
   "outputs": [],
   "source": [
    "#create perceptron object\n",
    "classifier = Perceptron(max_iter=40, tol=1e-3)"
   ]
  },
  {
   "cell_type": "markdown",
   "metadata": {},
   "source": [
    "## Train and Evaluate Model\n",
    "\n",
    "Normally, we wouldn't train and test our model on the same dataset. However, in our scenario there are only four possible inputs to each gate, so we're stuck training on every possible input and testing on those same points.\n",
    "\n",
    "We can use the `.score()` method to print the accuracy of the model on the data points. "
   ]
  },
  {
   "cell_type": "code",
   "execution_count": 7,
   "metadata": {
    "scrolled": true
   },
   "outputs": [
    {
     "name": "stdout",
     "output_type": "stream",
     "text": [
      "1.0\n",
      "1.0\n",
      "0.5\n"
     ]
    }
   ],
   "source": [
    "#train model, and print accuracy of model on the data points\n",
    "classifier.fit(data, ANDlabels)\n",
    "print(classifier.score(data, ANDlabels))\n",
    "#output of 1.0 indicates that 100% of the time, model was able to correctly determine output given data\n",
    "\n",
    "classifier.fit(data, ORlabels)\n",
    "print(classifier.score(data, ORlabels))\n",
    "#output of 1.0 indicates that 100% of the time, model was able to correctly determine output given data\n",
    "\n",
    "classifier.fit(data, XORlabels)\n",
    "print(classifier.score(data, XORlabels))\n",
    "#output of 0.5 indicates that 50% of the time, model was able to correctly determine output given data"
   ]
  },
  {
   "cell_type": "markdown",
   "metadata": {},
   "source": [
    "The AND & OR logic gates both had an output score of `1.0` which indicates that 100% of the time the model was able to correctly determine output given data. Thus, these two gates are linearly seperable; in other words, a decision boundary exists.\n",
    "\n",
    "The XOR logic gates had an output score of `0.5` which indicates that only 50% of the time the model was able to correctly determine output given data. Thus, XOR is not linearly seperable; in other words, a decision boundary does not exist."
   ]
  },
  {
   "cell_type": "markdown",
   "metadata": {},
   "source": [
    "## Data Visualization Pt. 2: Decision Boundary Heatmaps"
   ]
  },
  {
   "cell_type": "markdown",
   "metadata": {},
   "source": [
    "We can use the `.decision_function` method to calculate the distance between a particular point and the decision boundary of a dataset. For example:"
   ]
  },
  {
   "cell_type": "code",
   "execution_count": 8,
   "metadata": {
    "scrolled": true
   },
   "outputs": [
    {
     "name": "stdout",
     "output_type": "stream",
     "text": [
      "[ 0.  -1.  -0.5]\n"
     ]
    }
   ],
   "source": [
    "#decision fucntion can tell us the proximity of a particular point from the decision boundary\n",
    "#example:\n",
    "print(classifier.decision_function([[0, 0], [1, 1], [0.5, 0.5]]))\n",
    "#output of [ 0.  -1.  -0.5] tells us that points [0, 0], [1, 1], [0.5, 0.5] are 0, -1.0, and-0.5 units away from XOR decision boundary"
   ]
  },
  {
   "cell_type": "markdown",
   "metadata": {},
   "source": [
    "In this example, `decision_function` tells us that points `[0, 0], [1, 1], [0.5, 0.5]` are `0, -1.0, and -0.5` units away from XOR decision boundary."
   ]
  },
  {
   "cell_type": "markdown",
   "metadata": {},
   "source": [
    "Let's use the capability of the `decision_fucntion` to create a heatmap for each logic gate. Each heatmap will contain 100 equidistant, ordered pairs and their respective distances from the decision boundary."
   ]
  },
  {
   "cell_type": "code",
   "execution_count": 9,
   "metadata": {},
   "outputs": [],
   "source": [
    "#use decision_function method to create a heatmap containing 100 equidistant, ordered pairs and their respective distances from the decision boundary\n",
    "x_values = np.linspace(0, 1, 100)\n",
    "y_values = np.linspace(0, 1, 100)\n",
    "point_grid = list(product(x_values, y_values))"
   ]
  },
  {
   "cell_type": "code",
   "execution_count": 10,
   "metadata": {},
   "outputs": [
    {
     "data": {
      "image/png": "[encoded data removed]",
      "text/plain": [
       "<Figure size 432x288 with 2 Axes>"
      ]
     },
     "metadata": {
      "needs_background": "light"
     },
     "output_type": "display_data"
    }
   ],
   "source": [
    "#plot heatmap for AND gate\n",
    "classifier.fit(data, ANDlabels)\n",
    "distances = classifier.decision_function(point_grid)\n",
    "abs_distances = [abs(pt) for pt in distances]\n",
    "distances_matrix = np.reshape(abs_distances, (100,100))\n",
    "\n",
    "heatmap = plt.pcolormesh(x_values, y_values, distances_matrix)\n",
    "cbar = plt.colorbar(heatmap)\n",
    "plt.xlabel(\"X-Value\")\n",
    "plt.ylabel(\"Y-Value\")\n",
    "plt.title(\"AND Logic Gate Heatmap\")\n",
    "cbar.set_label(\"Distance From Decision Boundary\", rotation=270, labelpad=13)\n",
    "plt.show()"
   ]
  },
  {
   "cell_type": "code",
   "execution_count": 11,
   "metadata": {},
   "outputs": [
    {
     "data": {
      "image/png": "[encoded data removed]",
      "text/plain": [
       "<Figure size 432x288 with 2 Axes>"
      ]
     },
     "metadata": {
      "needs_background": "light"
     },
     "output_type": "display_data"
    }
   ],
   "source": [
    "#plot heatmap for OR gate\n",
    "classifier.fit(data, ORlabels)\n",
    "distances = classifier.decision_function(point_grid)\n",
    "abs_distances = [abs(pt) for pt in distances]\n",
    "distances_matrix = np.reshape(abs_distances, (100,100))\n",
    "\n",
    "heatmap = plt.pcolormesh(x_values, y_values, distances_matrix)\n",
    "cbar = plt.colorbar(heatmap)\n",
    "plt.xlabel(\"X-Value\")\n",
    "plt.ylabel(\"Y-Value\")\n",
    "plt.title(\"OR Logic Gate Heatmap\")\n",
    "cbar.set_label(\"Distance From Decision Boundary\", rotation=270,labelpad=13)\n",
    "plt.show()"
   ]
  },
  {
   "cell_type": "code",
   "execution_count": 12,
   "metadata": {},
   "outputs": [
    {
     "data": {
      "image/png": "[encoded data removed]",
      "text/plain": [
       "<Figure size 432x288 with 2 Axes>"
      ]
     },
     "metadata": {
      "needs_background": "light"
     },
     "output_type": "display_data"
    }
   ],
   "source": [
    "#plot heatmap for XOR gate\n",
    "classifier.fit(data, XORlabels)\n",
    "distances = classifier.decision_function(point_grid)\n",
    "abs_distances = [abs(pt) for pt in distances]\n",
    "distances_matrix = np.reshape(abs_distances, (100,100))\n",
    "\n",
    "heatmap = plt.pcolormesh(x_values, y_values, distances_matrix)\n",
    "cbar = plt.colorbar(heatmap)\n",
    "plt.xlabel(\"X-Value\")\n",
    "plt.ylabel(\"Y-Value\")\n",
    "plt.title(\"XOR Logic Gate Heatmap\")\n",
    "cbar.set_label(\"Distance From Decision Boundary\", rotation=270, labelpad=13)\n",
    "plt.show()"
   ]
  },
  {
   "cell_type": "markdown",
   "metadata": {},
   "source": [
    "## Analysis\n",
    "\n",
    "The deep purple region of the AND & OR logic gate heatmap represents its respective decision boundary.\n",
    "\n",
    "In the XOR heatmap, the deep purple region is unable to seperate data into 2 distinct regions. Thus, the XOR heatmap illustrates data that is not linearly seperable."
   ]
  },
  {
   "cell_type": "markdown",
   "metadata": {},
   "source": [
    "## Conclusion\n",
    "\n",
    "A single perceptron with only two inputs can only solve problems that are linearly seperable because it cannot represent a non-linear decision boundary.\n",
    "\n",
    "However, by increasing the number of features and perceptrons, we can give rise to the Multilayer Perceptrons, also known as Neural Networks, which can solve much more complicated problems. More on Neural Networks in future posts! :-)"
   ]
  }
 ],
 "metadata": {
  "kernelspec": {
   "display_name": "Python 3",
   "language": "python",
   "name": "python3"
  },
  "language_info": {
   "codemirror_mode": {
    "name": "ipython",
    "version": 3
   },
   "file_extension": ".py",
   "mimetype": "text/x-python",
   "name": "python",
   "nbconvert_exporter": "python",
   "pygments_lexer": "ipython3",
   "version": "3.6.8"
  }
 },
 "nbformat": 4,
 "nbformat_minor": 2
}
