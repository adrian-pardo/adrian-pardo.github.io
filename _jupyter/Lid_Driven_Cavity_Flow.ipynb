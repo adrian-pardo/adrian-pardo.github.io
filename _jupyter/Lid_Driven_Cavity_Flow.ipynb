{
 "cells": [
  {
   "cell_type": "markdown",
   "id": "5140fab7",
   "metadata": {},
   "source": [
    "# Lid Driven Cavity Flow: A Physics Informed Neural Network Approach"
   ]
  },
  {
   "cell_type": "markdown",
   "id": "adb8a3c2",
   "metadata": {},
   "source": [
    "# 1 Introduction\n",
    "\n",
    "Prior to this project I had never heard of Physics-informed neural networks (PINNs) or their applications within the realm of compuatational fluid dynamics. This project challenged me conceptually and reinforced my ability to tackle difficult problems by breaking them down into concrete, digestible steps. Technologies and tools utilized throughout this project included:\n",
    "\n",
    "- Ubuntu \n",
    "- Pandas\n",
    "- Tensorflow\n",
    "- PyTorch\n",
    "- Python Jupyter notebooks\n",
    "- Github"
   ]
  },
  {
   "cell_type": "markdown",
   "id": "9ffd1ee2",
   "metadata": {},
   "source": [
    "# 2 Report\n",
    "\n",
    "<embed src=\"{{ site.url }}{{ site.baseurl }}/images/isye6740/ISYE640_final_report.pdf\" width=\"500\" height=\"375\" type=\"application/pdf\">"
   ]
  }
 ],
 "metadata": {
  "kernelspec": {
   "display_name": "Python 3 (ipykernel)",
   "language": "python",
   "name": "python3"
  },
  "language_info": {
   "codemirror_mode": {
    "name": "ipython",
    "version": 3
   },
   "file_extension": ".py",
   "mimetype": "text/x-python",
   "name": "python",
   "nbconvert_exporter": "python",
   "pygments_lexer": "ipython3",
   "version": "3.9.7"
  }
 },
 "nbformat": 4,
 "nbformat_minor": 5
}
