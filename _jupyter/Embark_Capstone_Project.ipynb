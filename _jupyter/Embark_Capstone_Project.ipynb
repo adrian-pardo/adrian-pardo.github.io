{
 "cells": [
  {
   "cell_type": "markdown",
   "id": "74f0abee",
   "metadata": {},
   "source": [
    "# MS Analytics Capstone Project: Embark Veterinary"
   ]
  },
  {
   "cell_type": "markdown",
   "id": "62abce09",
   "metadata": {},
   "source": [
    "# 1 Introduction\n",
    "\n",
    "My capstone project was a collaboration with Embark Veterinary, a provider of genetic testing services for dogs. The project aimed to improve our ability to **predict a particular set of health conditions and fur/coat color traits based on the dog’s genetic condition**. The goal of this project was to apply broader supervised methods to predict the disease state directly from the raw, unclustered genetic assay data. The following technologies were utilized:\n",
    "\n",
    "- Pandas\n",
    "- Matplotlib\n",
    "- Sklearn \n",
    "- Python Jupyter notebooks\n",
    "\n",
    "Additionally, the following predicitive algorithms were utilized:\n",
    "\n",
    "- Multi-nominal Logistic Regression\n",
    "- k-NN\n",
    "- SVM\n",
    "- Random Forest"
   ]
  },
  {
   "cell_type": "markdown",
   "id": "1690da51",
   "metadata": {},
   "source": [
    "# 2 Report\n",
    "\n",
    "<embed src=\"{{ site.url }}{{ site.baseurl }}/images/embark/Embark_Team_2_Final_Report.pdf\" width=\"500\" height=\"375\" type=\"application/pdf\">"
   ]
  }
 ],
 "metadata": {
  "kernelspec": {
   "display_name": "Python 3 (ipykernel)",
   "language": "python",
   "name": "python3"
  },
  "language_info": {
   "codemirror_mode": {
    "name": "ipython",
    "version": 3
   },
   "file_extension": ".py",
   "mimetype": "text/x-python",
   "name": "python",
   "nbconvert_exporter": "python",
   "pygments_lexer": "ipython3",
   "version": "3.9.7"
  }
 },
 "nbformat": 4,
 "nbformat_minor": 5
}
